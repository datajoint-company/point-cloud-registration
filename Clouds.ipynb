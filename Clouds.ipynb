{
 "cells": [
  {
   "cell_type": "markdown",
   "id": "237894d7",
   "metadata": {},
   "source": [
    "https://github.com/dimitri-yatsenko/point-cloud-registration"
   ]
  },
  {
   "cell_type": "code",
   "execution_count": null,
   "id": "81857b21",
   "metadata": {},
   "outputs": [],
   "source": [
    "%matplotlib inline\n",
    "import numpy as np\n",
    "from matplotlib import pyplot as plt\n",
    "from tqdm import tqdm\n",
    "from scipy.stats import gaussian_kde"
   ]
  },
  {
   "cell_type": "code",
   "execution_count": null,
   "id": "d1fadd58",
   "metadata": {},
   "outputs": [],
   "source": [
    "import point_cloud_registration as pcr"
   ]
  },
  {
   "cell_type": "code",
   "execution_count": null,
   "id": "fd646bd8",
   "metadata": {},
   "outputs": [],
   "source": [
    "points1 = np.load('data/Animal1_Day1_points.npy')\n",
    "points2 = np.load('data/Animal1_Day2_points.npy')"
   ]
  },
  {
   "cell_type": "code",
   "execution_count": null,
   "id": "6144ea74",
   "metadata": {},
   "outputs": [],
   "source": [
    "plt.scatter(*points1[:,:2].T, s=2, alpha=0.1)\n",
    "plt.scatter(*points2[:,:2].T, s=2, alpha=0.1)\n",
    "plt.axis('equal')\n",
    "plt.box(False)\n",
    "plt.title('oroginal dataset');"
   ]
  },
  {
   "cell_type": "code",
   "execution_count": null,
   "id": "b8c3bc30",
   "metadata": {},
   "outputs": [],
   "source": [
    "# crop and scale datasets differently\n",
    "points1 = points1[points1[:,1] < 0.6*points1[:,1].max(), :]\n",
    "points1 *= 1.5\n",
    "points2 = points2[points2[:,0] < 0.7*points2[:,0].max(),:]\n",
    "\n",
    "# rotate and translate the second set\n",
    "alpha = 0.1\n",
    "rotation = [\n",
    "    [np.cos(alpha), -np.sin(alpha), 0],\n",
    "    [np.sin(alpha), np.cos(alpha), 0],\n",
    "    [0, 0, 1]]\n",
    "points2 = points2 @ rotation + np.array([500, -100, 30])\n"
   ]
  },
  {
   "cell_type": "code",
   "execution_count": null,
   "id": "e42aaddb",
   "metadata": {},
   "outputs": [],
   "source": [
    "plt.scatter(*points1[:,:2].T, s=2, alpha=0.1)\n",
    "plt.scatter(*points2[:,:2].T, s=2, alpha=0.1)\n",
    "plt.axis('equal')\n",
    "plt.box(False)\n",
    "plt.title('transformed datasets')"
   ]
  },
  {
   "cell_type": "code",
   "execution_count": null,
   "id": "76f53ec5",
   "metadata": {},
   "outputs": [],
   "source": [
    "tetras1 = pcr.make_normal_tetras(points1)\n",
    "tetras2 = pcr.make_normal_tetras(points2)"
   ]
  },
  {
   "cell_type": "code",
   "execution_count": null,
   "id": "393bc3bd",
   "metadata": {},
   "outputs": [],
   "source": [
    "pcr.compute_canonical_features(tetras1)"
   ]
  },
  {
   "cell_type": "code",
   "execution_count": null,
   "id": "852aa5a0",
   "metadata": {},
   "outputs": [],
   "source": [
    "pcr.remove_common_tetras(tetras1)"
   ]
  },
  {
   "cell_type": "code",
   "execution_count": null,
   "id": "c5d24b7b",
   "metadata": {},
   "outputs": [],
   "source": [
    "pcr.compute_canonical_features(tetras2)\n",
    "pcr.remove_common_tetras(tetras2)"
   ]
  },
  {
   "cell_type": "code",
   "execution_count": null,
   "id": "42916c9c",
   "metadata": {},
   "outputs": [],
   "source": [
    "tetras1['coords'].shape"
   ]
  },
  {
   "cell_type": "code",
   "execution_count": null,
   "id": "b83397a1",
   "metadata": {},
   "outputs": [],
   "source": [
    "F1 = tetras1['features']\n",
    "F2 = tetras2['features']\n",
    "\n",
    "fig, ax = plt.subplots(1, 3, figsize=(20, 6))\n",
    "ax[0].scatter(*F1[:,[0,1]].T, s=1, alpha=0.2)\n",
    "ax[0].scatter(*F2[:,[0,1]].T, s=1, alpha=0.2)\n",
    "\n",
    "ax[1].scatter(*F1[:,[2,3]].T, s=1, alpha=0.2)\n",
    "ax[1].scatter(*F2[:,[2,3]].T, s=1, alpha=0.2)\n",
    "\n",
    "ax[2].scatter(*F1[:,[4,5]].T, s=1, alpha=0.2)\n",
    "ax[2].scatter(*F2[:,[4,5]].T, s=1, alpha=0.2)\n",
    "\n",
    "fig.suptitle('feature space')"
   ]
  },
  {
   "cell_type": "code",
   "execution_count": null,
   "id": "d449f6cd",
   "metadata": {},
   "outputs": [],
   "source": [
    "distances, matches = pcr.match_features(tetras1, tetras2)"
   ]
  },
  {
   "cell_type": "code",
   "execution_count": null,
   "id": "87861ceb",
   "metadata": {},
   "outputs": [],
   "source": [
    "ix = ~np.isinf(distances)\n",
    "distances = distances[ix]\n",
    "matches = np.stack(matches[ix])[:,0]\n",
    "pcr.select_tetras(tetras2, ix)"
   ]
  },
  {
   "cell_type": "code",
   "execution_count": null,
   "id": "6c18c831",
   "metadata": {},
   "outputs": [],
   "source": [
    "# vote based on norms\n",
    "N1 = tetras1['norms']\n",
    "N2 = tetras2['norms']\n",
    "\n",
    "nn = np.stack([N2[:,0,0], N1[matches][:,0,0]]).T\n",
    "density = gaussian_kde(nn.T)(nn.T)\n",
    "plt.scatter(*nn.T, c=density, s=8, alpha=0.2)\n",
    "n1, n2 = nn[np.argmax(density)]\n",
    "plt.plot(n1, n2, 'kx')\n",
    "plt.grid(True)\n",
    "plt.box(False)\n",
    "n2 / n1"
   ]
  },
  {
   "cell_type": "code",
   "execution_count": null,
   "id": "f71d4ebf",
   "metadata": {},
   "outputs": [],
   "source": [
    "# remove matches with other scales\n",
    "ix = (nn[:,0]/n1 - 1) ** 2 + (nn[:,1]/n2 - 1) ** 2 < 0.05 ** 2\n",
    "matches = matches[ix]\n",
    "pcr.select_tetras(tetras2, ix)"
   ]
  },
  {
   "cell_type": "code",
   "execution_count": null,
   "id": "4b25e538",
   "metadata": {},
   "outputs": [],
   "source": [
    "q, r = np.unique(matches, return_inverse=True)\n",
    "matches = matches[r]\n",
    "pcr.select_tetras(tetras2, r)\n",
    "pcr.select_tetras(tetras1, matches)"
   ]
  },
  {
   "cell_type": "code",
   "execution_count": null,
   "id": "d5bf1a23",
   "metadata": {},
   "outputs": [],
   "source": [
    "tetras1['features'].shape"
   ]
  },
  {
   "cell_type": "code",
   "execution_count": null,
   "id": "3bd93382",
   "metadata": {},
   "outputs": [],
   "source": [
    "tetras2['features'].shape"
   ]
  },
  {
   "cell_type": "code",
   "execution_count": null,
   "id": "f1a5a2cb",
   "metadata": {},
   "outputs": [],
   "source": [
    "tetras1['coords'].reshape((-1, 3)).shape"
   ]
  },
  {
   "cell_type": "code",
   "execution_count": null,
   "id": "fd1b206c",
   "metadata": {},
   "outputs": [],
   "source": [
    "tetras1['coords'].shape"
   ]
  },
  {
   "cell_type": "code",
   "execution_count": null,
   "id": "99c0bd81",
   "metadata": {},
   "outputs": [],
   "source": []
  }
 ],
 "metadata": {
  "kernelspec": {
   "display_name": "benv",
   "language": "python",
   "name": "benv"
  },
  "language_info": {
   "codemirror_mode": {
    "name": "ipython",
    "version": 3
   },
   "file_extension": ".py",
   "mimetype": "text/x-python",
   "name": "python",
   "nbconvert_exporter": "python",
   "pygments_lexer": "ipython3",
   "version": "3.10.4"
  }
 },
 "nbformat": 4,
 "nbformat_minor": 5
}
